{
 "cells": [
  {
   "cell_type": "markdown",
   "metadata": {},
   "source": [
    "# The Binomial Model\n",
    "You could ask your self, what is the simplest possible model of the financial market that can be used to price derivatives. \n",
    "The answer is the binomial model.\n",
    "\n",
    "```mermaid\n",
    "graph LR\n",
    "    Start(\"Start Price (S₀)\")\n",
    "    Up[\"Up Move (S₀ * u)\"]\n",
    "    Down[\"Down Move (S₀ * d)\"]\n",
    "    UpUp[\"S₀ * u²\"]\n",
    "    UpDown[\"S₀ * u * d\"]\n",
    "    DownDown[\"S₀ * d²\"]\n",
    "\n",
    "    Start --> Up\n",
    "    Start --> Down\n",
    "    Up --> UpUp\n",
    "    Up --> UpDown\n",
    "    Down --> UpDown\n",
    "    Down --> DownDown\n",
    "```\n",
    "\n",
    "## Model description\n",
    "A stock price $S_0=s$ can be evolved forward in time according to \n",
    "$$\n",
    "S_1 = \\begin{cases}\n",
    "s \\cdot u \\ \\text{with probability } p_u \\\\\n",
    "s \\cdot d \\ \\text{with probability } p_d\n",
    "\\end{cases}\n",
    "$$\n",
    "\n",
    "Considering this we can ask the questions\n",
    "1. How do you determine $u$ and $d$ from the market?\n",
    "2. How do you determine $p_u$ and $p_d$ from the market?\n",
    "3. What is the final distribution after $n$ steps ($n \\to \\infty$).  \n",
    "4. How can we use this for vanilla option valuation.\n",
    "5. What does arbitrage look like and how does arbitrage influence the choice of $u$, $d$, $p_u$ and $p_d$.\n",
    "6. How do you adjust the parameters of real-world vs. risk neutral probabilities.\n",
    "7. How does the model work/change for more exotic options like american style.\n",
    "8. What are the limitations of this model\n",
    "9. Does it reproduce the Black-Scholes model?\n",
    "The above questions will be solved in the following."
   ]
  },
  {
   "cell_type": "code",
   "execution_count": 1,
   "metadata": {},
   "outputs": [],
   "source": [
    "a = 2"
   ]
  }
 ],
 "metadata": {
  "kernelspec": {
   "display_name": "Python 3",
   "language": "python",
   "name": "python3"
  },
  "language_info": {
   "codemirror_mode": {
    "name": "ipython",
    "version": 3
   },
   "file_extension": ".py",
   "mimetype": "text/x-python",
   "name": "python",
   "nbconvert_exporter": "python",
   "pygments_lexer": "ipython3",
   "version": "3.11.0"
  }
 },
 "nbformat": 4,
 "nbformat_minor": 2
}
